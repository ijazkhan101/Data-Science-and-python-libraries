{
 "cells": [
  {
   "cell_type": "code",
   "execution_count": 3,
   "metadata": {},
   "outputs": [
    {
     "name": "stdout",
     "output_type": "stream",
     "text": [
      "Add\n",
      "{1, 4}\n",
      "union\n",
      "{1, 2, 3, 4}\n",
      "intersection\n",
      "{4}\n"
     ]
    }
   ],
   "source": [
    "s = set()\n",
    "\n",
    "s.add(1)\n",
    "s.add(4)\n",
    "\n",
    "s1 =s.union({1,2,3})\n",
    "\n",
    "s2 = s.intersection({4,5,6})\n",
    "print(\"Add\")\n",
    "print(s)\n",
    "print(\"union\")\n",
    "print(s1)\n",
    "print(\"intersection\")\n",
    "print(s2)"
   ]
  }
 ],
 "metadata": {
  "kernelspec": {
   "display_name": "Python ('dataenv')",
   "language": "python",
   "name": "python3"
  },
  "language_info": {
   "codemirror_mode": {
    "name": "ipython",
    "version": 3
   },
   "file_extension": ".py",
   "mimetype": "text/x-python",
   "name": "python",
   "nbconvert_exporter": "python",
   "pygments_lexer": "ipython3",
   "version": "3.10.4"
  },
  "orig_nbformat": 4,
  "vscode": {
   "interpreter": {
    "hash": "25a19fbe0a9132dfb9279d48d161753c6352f8f9478c2e74383d340069b907c3"
   }
  }
 },
 "nbformat": 4,
 "nbformat_minor": 2
}
